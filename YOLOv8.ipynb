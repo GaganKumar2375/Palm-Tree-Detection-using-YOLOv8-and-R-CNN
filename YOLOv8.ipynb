{
  "nbformat": 4,
  "nbformat_minor": 0,
  "metadata": {
    "colab": {
      "provenance": [],
      "authorship_tag": "ABX9TyNKwB4Y0MGUI2EF9WjpZHGF",
      "include_colab_link": true
    },
    "kernelspec": {
      "name": "python3",
      "display_name": "Python 3"
    },
    "language_info": {
      "name": "python"
    }
  },
  "cells": [
    {
      "cell_type": "markdown",
      "metadata": {
        "id": "view-in-github",
        "colab_type": "text"
      },
      "source": [
        "<a href=\"https://colab.research.google.com/github/GaganKumar2375/Palm-Tree-Detection-using-YOLOv8-and-R-CNN/blob/main/YOLOv8.ipynb\" target=\"_parent\"><img src=\"https://colab.research.google.com/assets/colab-badge.svg\" alt=\"Open In Colab\"/></a>"
      ]
    },
    {
      "cell_type": "code",
      "execution_count": null,
      "metadata": {
        "id": "8FOeW2lBOLpr"
      },
      "outputs": [],
      "source": []
    },
    {
      "cell_type": "markdown",
      "metadata": {
        "id": "2e88a921"
      },
      "source": [
        "# YOLOv8 Code"
      ]
    },
    {
      "cell_type": "code",
      "execution_count": null,
      "metadata": {
        "id": "c80556b9"
      },
      "outputs": [],
      "source": [
        "!pip install ultralytics\n"
      ]
    },
    {
      "cell_type": "code",
      "execution_count": null,
      "metadata": {
        "id": "7bb86f68"
      },
      "outputs": [],
      "source": [
        "\n",
        "!pip install roboflow\n",
        "\n",
        "from roboflow import Roboflow\n",
        "rf = Roboflow(api_key=\"A2wycrFsDr1E3JqnNRlT\")\n",
        "project = rf.workspace(\"nur-byq0f\").project(\"palm-detection-4qh3m\")\n",
        "version = project.version(2)\n",
        "dataset = version.download(\"yolov8\")\n"
      ]
    },
    {
      "cell_type": "code",
      "execution_count": null,
      "metadata": {
        "id": "d45e5215"
      },
      "outputs": [],
      "source": [
        "from ultralytics import YOLO\n",
        "\n",
        "# Load the pre-trained YOLOv8 model\n",
        "model = YOLO(\"yolov8n.pt\")  # Options: yolov8n.pt, yolov8s.pt, yolov8m.pt, etc.\n",
        "\n",
        "# Train the model\n",
        "model.train(\n",
        "    data=\"/content/Palm-Detection-2/data.yaml\",       # Path to the YAML configuration file\n",
        "    epochs=10,              # Number of training epochs\n",
        "    imgsz=640,              # Image size for training\n",
        "    batch=16,               # Batch size\n",
        "    device=0                # Use GPU (0) or CPU ('cpu')\n",
        ")\n"
      ]
    },
    {
      "cell_type": "code",
      "execution_count": null,
      "metadata": {
        "id": "33e8ebce"
      },
      "outputs": [],
      "source": [
        "# Evaluate the trained model\n",
        "metrics = model.val()\n",
        "print(metrics)  # This prints mAP, precision, recall, etc.\n"
      ]
    },
    {
      "cell_type": "code",
      "execution_count": null,
      "metadata": {
        "id": "f9a4e675"
      },
      "outputs": [],
      "source": [
        "import matplotlib.pyplot as plt\n",
        "\n",
        "# Run validation and get real YOLOv8 metrics\n",
        "metrics = model.val()  # This evaluates the model and returns a dictionary of metrics\n",
        "\n",
        "# Extract relevant metrics\n",
        "yolov8_metrics = {\n",
        "    \"AP @[IoU=0.50:0.95] (all)\": metrics.box.map,       # mAP@0.5:0.95\n",
        "    \"AP @[IoU=0.50] (all)\": metrics.box.map50,          # mAP@0.5\n",
        "}\n",
        "\n",
        "# Filter out None values (if any)\n",
        "valid_metrics = {k: v for k, v in yolov8_metrics.items() if v is not None}\n",
        "\n",
        "# Plot the metrics\n",
        "labels = list(valid_metrics.keys())\n",
        "values = list(valid_metrics.values())\n",
        "\n",
        "plt.figure(figsize=(12, 8))\n",
        "plt.barh(labels, values, color=\"skyblue\")\n",
        "plt.xlabel(\"Metric Value\")\n",
        "plt.title(\"YOLOv8 Evaluation Metrics (from model.val())\")\n",
        "plt.grid(axis=\"x\", linestyle=\"--\", alpha=0.7)\n",
        "plt.tight_layout()\n",
        "plt.show()\n"
      ]
    },
    {
      "cell_type": "code",
      "execution_count": null,
      "metadata": {
        "id": "b6fd0c58"
      },
      "outputs": [],
      "source": [
        "import pandas as pd\n",
        "import matplotlib.pyplot as plt\n",
        "import os\n",
        "\n",
        "# Path to the YOLOv8 runs\n",
        "detect_path = 'runs/detect'\n",
        "\n",
        "# Filter only folders that contain 'results.csv'\n",
        "valid_runs = []\n",
        "for run in os.listdir(detect_path):\n",
        "    results_csv = os.path.join(detect_path, run, 'results.csv')\n",
        "    if os.path.isfile(results_csv):\n",
        "        valid_runs.append((run, os.path.getmtime(results_csv)))\n",
        "\n",
        "# Sort by modification time\n",
        "if not valid_runs:\n",
        "    raise FileNotFoundError(\"No valid run folders with 'results.csv' found.\")\n",
        "\n",
        "latest_run = sorted(valid_runs, key=lambda x: x[1])[-1][0]\n",
        "results_path = os.path.join(detect_path, latest_run)\n",
        "metrics_file = os.path.join(results_path, 'results.csv')\n",
        "\n",
        "print(f\"Using results from: {results_path}\")\n",
        "\n",
        "# Load the CSV\n",
        "df = pd.read_csv(metrics_file)\n",
        "df.columns = df.columns.str.strip()\n",
        "\n",
        "# Training Losses\n",
        "plt.figure(figsize=(12, 6))\n",
        "plt.plot(df['train/box_loss'], label='Box Loss')\n",
        "plt.plot(df['train/cls_loss'], label='Class Loss')\n",
        "plt.plot(df['train/dfl_loss'], label='DFL Loss')\n",
        "plt.title(\"YOLOv8 Training Loss Curves\")\n",
        "plt.xlabel(\"Epoch\")\n",
        "plt.ylabel(\"Loss\")\n",
        "plt.legend()\n",
        "plt.grid(True)\n",
        "plt.tight_layout()\n",
        "plt.show()\n"
      ]
    },
    {
      "cell_type": "code",
      "execution_count": null,
      "metadata": {
        "id": "bb8547b0"
      },
      "outputs": [],
      "source": [
        "import os\n",
        "import glob\n",
        "from IPython.display import display\n",
        "from PIL import Image as PILImage\n",
        "import matplotlib.pyplot as plt\n",
        "\n",
        "# Get prediction image paths\n",
        "val_preds = glob.glob(os.path.join(results_path, 'val_batch*_pred.jpg'))\n",
        "\n",
        "# Display each image nicely using matplotlib\n",
        "for i, img_path in enumerate(val_preds[:3]):\n",
        "    img = PILImage.open(img_path)\n",
        "    plt.figure(figsize=(8, 8))\n",
        "    plt.imshow(img)\n",
        "    plt.axis(\"off\")\n",
        "    plt.title(f\"YOLO Prediction {i + 1}\")\n",
        "    plt.show()\n"
      ]
    }
  ]
}